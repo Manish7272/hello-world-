{
 "cells": [
  {
   "cell_type": "code",
   "execution_count": 1,
   "id": "2f585307",
   "metadata": {},
   "outputs": [
    {
     "name": "stdout",
     "output_type": "stream",
     "text": [
      "h\n",
      "e\n",
      "l\n",
      "l\n",
      "o\n",
      " \n",
      "w\n",
      "o\n",
      "r\n",
      "l\n",
      "d\n"
     ]
    }
   ],
   "source": [
    "for val in \"hello world\":\n",
    "    print(val)"
   ]
  },
  {
   "cell_type": "code",
   "execution_count": 5,
   "id": "98e178e7",
   "metadata": {},
   "outputs": [
    {
     "name": "stdout",
     "output_type": "stream",
     "text": [
      "range(0, 10)\n",
      "[0, 1, 2, 3, 4, 5, 6, 7, 8, 9]\n",
      "range(0, 10)\n"
     ]
    }
   ],
   "source": [
    "print(range(10))\n",
    "print(list(range(10)))\n",
    "print(range(10))"
   ]
  },
  {
   "cell_type": "code",
   "execution_count": null,
   "id": "02d3fd0f",
   "metadata": {},
   "outputs": [],
   "source": []
  },
  {
   "cell_type": "code",
   "execution_count": null,
   "id": "535ddecb",
   "metadata": {},
   "outputs": [],
   "source": []
  },
  {
   "cell_type": "markdown",
   "id": "a78bff50",
   "metadata": {},
   "source": [
    "## squre root"
   ]
  },
  {
   "cell_type": "code",
   "execution_count": null,
   "id": "712c8099",
   "metadata": {},
   "outputs": [],
   "source": [
    "                                                                "
   ]
  },
  {
   "cell_type": "code",
   "execution_count": 2,
   "id": "b9589801",
   "metadata": {},
   "outputs": [
    {
     "name": "stdout",
     "output_type": "stream",
     "text": [
      "99\n",
      "99  is a squre root of 9801\n"
     ]
    }
   ],
   "source": [
    "num1=int(input())\n",
    "squre=num1*num1\n",
    "print(num1,\" is a squre root of\",squre)\n"
   ]
  },
  {
   "cell_type": "code",
   "execution_count": null,
   "id": "a886fe73",
   "metadata": {},
   "outputs": [],
   "source": []
  },
  {
   "cell_type": "markdown",
   "id": "5aa3bc24",
   "metadata": {},
   "source": [
    "# triangle area formula"
   ]
  },
  {
   "cell_type": "markdown",
   "id": "63bab77e",
   "metadata": {},
   "source": [
    "##### "
   ]
  },
  {
   "cell_type": "code",
   "execution_count": 4,
   "id": "3a4718ff",
   "metadata": {},
   "outputs": [
    {
     "name": "stdout",
     "output_type": "stream",
     "text": [
      "7\n",
      "5\n",
      "17.5\n"
     ]
    }
   ],
   "source": [
    "num1=int(input())\n",
    "num2=int(input())\n",
    "\n",
    "area=num1*num2\n",
    "\n",
    "area1=area/2\n",
    "\n",
    "print(area1)"
   ]
  },
  {
   "cell_type": "code",
   "execution_count": null,
   "id": "ce20f6a1",
   "metadata": {},
   "outputs": [],
   "source": [
    "\n"
   ]
  },
  {
   "cell_type": "code",
   "execution_count": 13,
   "id": "189597ca",
   "metadata": {},
   "outputs": [
    {
     "ename": "NameError",
     "evalue": "name 'X' is not defined",
     "output_type": "error",
     "traceback": [
      "\u001b[1;31m---------------------------------------------------------------------------\u001b[0m",
      "\u001b[1;31mNameError\u001b[0m                                 Traceback (most recent call last)",
      "\u001b[1;32mC:\\Users\\MANISH~1\\AppData\\Local\\Temp/ipykernel_17560/3355094747.py\u001b[0m in \u001b[0;36m<module>\u001b[1;34m\u001b[0m\n\u001b[1;32m----> 1\u001b[1;33m \u001b[0meq\u001b[0m \u001b[1;33m=\u001b[0m  \u001b[0mX\u001b[0m\u001b[1;33m^\u001b[0m\u001b[1;36m2\u001b[0m \u001b[1;33m+\u001b[0m  \u001b[0mY\u001b[0m \u001b[1;33m+\u001b[0m \u001b[0mc\u001b[0m\u001b[1;33m\u001b[0m\u001b[1;33m\u001b[0m\u001b[0m\n\u001b[0m\u001b[0;32m      2\u001b[0m \u001b[1;33m\u001b[0m\u001b[0m\n\u001b[0;32m      3\u001b[0m \u001b[1;33m\u001b[0m\u001b[0m\n\u001b[0;32m      4\u001b[0m \u001b[1;33m\u001b[0m\u001b[0m\n\u001b[0;32m      5\u001b[0m \u001b[1;31m# a=int(input())\u001b[0m\u001b[1;33m\u001b[0m\u001b[1;33m\u001b[0m\u001b[0m\n",
      "\u001b[1;31mNameError\u001b[0m: name 'X' is not defined"
     ]
    }
   ],
   "source": [
    "eq =  X^2 +  Y + c\n",
    "\n",
    "\n",
    "\n",
    "# a=int(input())\n",
    "# b=int(input())\n",
    "# c=int(input())\n",
    "\n",
    "\n",
    "print(eq)\n"
   ]
  },
  {
   "cell_type": "code",
   "execution_count": 19,
   "id": "84ceb97a",
   "metadata": {},
   "outputs": [
    {
     "name": "stdout",
     "output_type": "stream",
     "text": [
      "21\n"
     ]
    }
   ],
   "source": [
    "import random \n",
    "print(random.randint(0,99))"
   ]
  },
  {
   "cell_type": "code",
   "execution_count": 23,
   "id": "e195cdcd",
   "metadata": {},
   "outputs": [
    {
     "name": "stdout",
     "output_type": "stream",
     "text": [
      "12\n"
     ]
    }
   ],
   "source": [
    "import random\n",
    "print(random.randint(0,99))"
   ]
  },
  {
   "cell_type": "markdown",
   "id": "ee837a2e",
   "metadata": {},
   "source": [
    "# kilometer to meter"
   ]
  },
  {
   "cell_type": "code",
   "execution_count": 5,
   "id": "caf95453",
   "metadata": {},
   "outputs": [
    {
     "name": "stdout",
     "output_type": "stream",
     "text": [
      "8\n",
      "hi 8000\n"
     ]
    }
   ],
   "source": [
    "meter=int(input())\n",
    "\n",
    "conv_fac=1000;\n",
    "\n",
    "kilometer=(meter*conv_fac)\n",
    "\n",
    "print(meter'meter is ',(kilometer))\n"
   ]
  },
  {
   "cell_type": "code",
   "execution_count": 19,
   "id": "91c2fe04",
   "metadata": {},
   "outputs": [
    {
     "name": "stdout",
     "output_type": "stream",
     "text": [
      "enter tha kilometer6\n",
      "6 kilometer = 6000 meters\n"
     ]
    },
    {
     "ename": "SyntaxError",
     "evalue": "'break' outside loop (Temp/ipykernel_19916/3719255097.py, line 7)",
     "output_type": "error",
     "traceback": [
      "\u001b[1;36m  File \u001b[1;32m\"C:\\Users\\MANISH~1\\AppData\\Local\\Temp/ipykernel_19916/3719255097.py\"\u001b[1;36m, line \u001b[1;32m7\u001b[0m\n\u001b[1;33m    break\u001b[0m\n\u001b[1;37m    ^\u001b[0m\n\u001b[1;31mSyntaxError\u001b[0m\u001b[1;31m:\u001b[0m 'break' outside loop\n"
     ]
    }
   ],
   "source": [
    "kilometer=int(input(\"enter tha kilometer\"))\n",
    "conv_fac=1000\n",
    "\n",
    "meter=(kilometer*conv_fac)\n",
    "print(kilometer,\"kilometer =\",meter,\"meters\")\n",
    "\n",
    "\n"
   ]
  },
  {
   "cell_type": "markdown",
   "id": "3d0e76ca",
   "metadata": {},
   "source": [
    "# even odd\n"
   ]
  },
  {
   "cell_type": "code",
   "execution_count": 21,
   "id": "3dc03629",
   "metadata": {},
   "outputs": [
    {
     "name": "stdout",
     "output_type": "stream",
     "text": [
      "9\n",
      "no is odd\n"
     ]
    }
   ],
   "source": [
    "inp=int(input())\n",
    "\n",
    "if (inp%2)==0:\n",
    "    print(\" num is even\")\n",
    "\n",
    "else:\n",
    "    print(\"no is odd\")"
   ]
  },
  {
   "cell_type": "markdown",
   "id": "49b7aea5",
   "metadata": {},
   "source": [
    "a=int(input())\n",
    "b=a%2\n",
    "\n",
    "if b==0:\n",
    "     print(\"even\")\n",
    "\n",
    "else:\n",
    "    print(\"no is odd\")"
   ]
  },
  {
   "cell_type": "code",
   "execution_count": null,
   "id": "b64ff10b",
   "metadata": {},
   "outputs": [],
   "source": []
  },
  {
   "cell_type": "markdown",
   "id": "e01bcf7e",
   "metadata": {},
   "source": [
    "# largest among 3 num"
   ]
  },
  {
   "cell_type": "code",
   "execution_count": 37,
   "id": "a8a1bad6",
   "metadata": {},
   "outputs": [
    {
     "name": "stdout",
     "output_type": "stream",
     "text": [
      "00\n",
      "88\n",
      "66\n",
      "num2\n"
     ]
    }
   ],
   "source": [
    "num1=int(input())\n",
    "num2=int(input())\n",
    "num3=int(input())\n",
    "\n",
    "if num1>num2 and num1>num3:\n",
    "    print(\"num1\")\n",
    "elif num2>num1 and num2>num3:\n",
    "    print(\"num2\")\n",
    "elif num3>num1 and num3>num2:\n",
    "    print(\"num3\")\n",
    "else:\n",
    "    print(\"enter valid num\")\n",
    "    "
   ]
  },
  {
   "cell_type": "code",
   "execution_count": 40,
   "id": "4b2bea1f",
   "metadata": {},
   "outputs": [
    {
     "name": "stdout",
     "output_type": "stream",
     "text": [
      "Prime numbers between 50 and 100 are:\n",
      "53\n",
      "59\n",
      "61\n",
      "67\n",
      "71\n",
      "73\n",
      "79\n",
      "83\n",
      "89\n",
      "97\n"
     ]
    }
   ],
   "source": [
    "# Python program to display all the prime numbers within an interval\n",
    "\n",
    "lower = 50\n",
    "upper = 100\n",
    "\n",
    "print(\"Prime numbers between\", lower, \"and\", upper, \"are:\")\n",
    "\n",
    "for num in range(lower, upper + 1):\n",
    "# all prime numbers are greater than 1\n",
    "   if num > 1:\n",
    "       for i in range(2, num):\n",
    "           if (num % i) == 0:\n",
    "               break\n",
    "       else:\n",
    "           print(num)"
   ]
  },
  {
   "cell_type": "code",
   "execution_count": 42,
   "id": "7e5217a0",
   "metadata": {},
   "outputs": [
    {
     "name": "stdout",
     "output_type": "stream",
     "text": [
      "Enter a year: 5000\n",
      "5000 is not a leap year\n"
     ]
    }
   ],
   "source": [
    "# Python program to check if year is a leap year or not\n",
    "\n",
    "# year = 2000\n",
    "\n",
    "# To get year (integer input) from the user\n",
    "year = int(input(\"Enter a year: \"))\n",
    "\n",
    "# divided by 100 means century year (ending with 00)\n",
    "# century year divided by 400 is leap year\n",
    "if (year % 400 == 0) and (year % 100 == 0):\n",
    "    print(\"{0} is a leap year\".format(year))\n",
    "\n",
    "# not divided by 100 means not a century year\n",
    "# year divided by 4 is a leap year\n",
    "elif (year % 4 ==0) and (year % 100 != 0):\n",
    "    print(\"{0} is a leap year\".format(year))\n",
    "\n",
    "# if not divided by both 400 (century year) and 4 (not century year)\n",
    "# year is not leap year\n",
    "else:\n",
    "    print(\"{0} is not a leap year\".format(year))"
   ]
  },
  {
   "cell_type": "code",
   "execution_count": 43,
   "id": "cd20c5d7",
   "metadata": {},
   "outputs": [
    {
     "name": "stdout",
     "output_type": "stream",
     "text": [
      "12 x 1 = 12\n",
      "12 x 2 = 24\n",
      "12 x 3 = 36\n",
      "12 x 4 = 48\n",
      "12 x 5 = 60\n",
      "12 x 6 = 72\n",
      "12 x 7 = 84\n",
      "12 x 8 = 96\n",
      "12 x 9 = 108\n",
      "12 x 10 = 120\n"
     ]
    }
   ],
   "source": [
    "num = 12\n",
    "\n",
    "for i in range(1, 11):\n",
    "   print(num, 'x', i, '=', num*i)\n"
   ]
  },
  {
   "cell_type": "markdown",
   "id": "7cfff6f3",
   "metadata": {},
   "source": [
    "# sun of natural num"
   ]
  },
  {
   "cell_type": "code",
   "execution_count": 11,
   "id": "ccdcf7ff",
   "metadata": {},
   "outputs": [
    {
     "name": "stdout",
     "output_type": "stream",
     "text": [
      "8\n",
      "36\n"
     ]
    }
   ],
   "source": [
    "num=int(input())\n",
    "\n",
    "if num<=0:\n",
    "    print(\"enter positive num\")\n",
    "else:\n",
    "    sum=0\n",
    "    \n",
    "    while num>0:\n",
    "        sum=sum+num\n",
    "        num=num-1\n",
    "        \n",
    "        \n",
    "print(sum)        \n",
    "    "
   ]
  },
  {
   "cell_type": "code",
   "execution_count": null,
   "id": "bbc1f91f",
   "metadata": {},
   "outputs": [],
   "source": []
  },
  {
   "cell_type": "code",
   "execution_count": null,
   "id": "2c02c3ae",
   "metadata": {},
   "outputs": [],
   "source": []
  }
 ],
 "metadata": {
  "kernelspec": {
   "display_name": "Python 3 (ipykernel)",
   "language": "python",
   "name": "python3"
  },
  "language_info": {
   "codemirror_mode": {
    "name": "ipython",
    "version": 3
   },
   "file_extension": ".py",
   "mimetype": "text/x-python",
   "name": "python",
   "nbconvert_exporter": "python",
   "pygments_lexer": "ipython3",
   "version": "3.9.7"
  }
 },
 "nbformat": 4,
 "nbformat_minor": 5
}
